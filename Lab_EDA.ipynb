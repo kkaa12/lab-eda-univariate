{
 "cells": [
  {
   "cell_type": "code",
   "execution_count": 1,
   "id": "0e0718dd-1493-4219-abcd-341da64d2858",
   "metadata": {},
   "outputs": [],
   "source": [
    "import pandas as pd\n",
    "import matplotlib.pyplot as plt\n",
    "import seaborn as sns\n",
    "import numpy as np\n",
    "\n",
    "%matplotlib inline"
   ]
  },
  {
   "cell_type": "code",
   "execution_count": 2,
   "id": "6703e0af-4307-45ff-a613-5236b28ef537",
   "metadata": {},
   "outputs": [],
   "source": [
    "df = pd.read_csv(\"amz_uk_price_prediction_dataset.csv\")"
   ]
  },
  {
   "cell_type": "code",
   "execution_count": 3,
   "id": "e45968b9-ab67-447c-b618-cb715fa76353",
   "metadata": {},
   "outputs": [
    {
     "data": {
      "text/html": [
       "<div>\n",
       "<style scoped>\n",
       "    .dataframe tbody tr th:only-of-type {\n",
       "        vertical-align: middle;\n",
       "    }\n",
       "\n",
       "    .dataframe tbody tr th {\n",
       "        vertical-align: top;\n",
       "    }\n",
       "\n",
       "    .dataframe thead th {\n",
       "        text-align: right;\n",
       "    }\n",
       "</style>\n",
       "<table border=\"1\" class=\"dataframe\">\n",
       "  <thead>\n",
       "    <tr style=\"text-align: right;\">\n",
       "      <th></th>\n",
       "      <th>uid</th>\n",
       "      <th>asin</th>\n",
       "      <th>title</th>\n",
       "      <th>stars</th>\n",
       "      <th>reviews</th>\n",
       "      <th>price</th>\n",
       "      <th>isBestSeller</th>\n",
       "      <th>boughtInLastMonth</th>\n",
       "      <th>category</th>\n",
       "    </tr>\n",
       "  </thead>\n",
       "  <tbody>\n",
       "    <tr>\n",
       "      <th>0</th>\n",
       "      <td>1</td>\n",
       "      <td>B09B96TG33</td>\n",
       "      <td>Echo Dot (5th generation, 2022 release) | Big ...</td>\n",
       "      <td>4.7</td>\n",
       "      <td>15308</td>\n",
       "      <td>21.99</td>\n",
       "      <td>False</td>\n",
       "      <td>0</td>\n",
       "      <td>Hi-Fi Speakers</td>\n",
       "    </tr>\n",
       "    <tr>\n",
       "      <th>1</th>\n",
       "      <td>2</td>\n",
       "      <td>B01HTH3C8S</td>\n",
       "      <td>Anker Soundcore mini, Super-Portable Bluetooth...</td>\n",
       "      <td>4.7</td>\n",
       "      <td>98099</td>\n",
       "      <td>23.99</td>\n",
       "      <td>True</td>\n",
       "      <td>0</td>\n",
       "      <td>Hi-Fi Speakers</td>\n",
       "    </tr>\n",
       "    <tr>\n",
       "      <th>2</th>\n",
       "      <td>3</td>\n",
       "      <td>B09B8YWXDF</td>\n",
       "      <td>Echo Dot (5th generation, 2022 release) | Big ...</td>\n",
       "      <td>4.7</td>\n",
       "      <td>15308</td>\n",
       "      <td>21.99</td>\n",
       "      <td>False</td>\n",
       "      <td>0</td>\n",
       "      <td>Hi-Fi Speakers</td>\n",
       "    </tr>\n",
       "    <tr>\n",
       "      <th>3</th>\n",
       "      <td>4</td>\n",
       "      <td>B09B8T5VGV</td>\n",
       "      <td>Echo Dot with clock (5th generation, 2022 rele...</td>\n",
       "      <td>4.7</td>\n",
       "      <td>7205</td>\n",
       "      <td>31.99</td>\n",
       "      <td>False</td>\n",
       "      <td>0</td>\n",
       "      <td>Hi-Fi Speakers</td>\n",
       "    </tr>\n",
       "    <tr>\n",
       "      <th>4</th>\n",
       "      <td>5</td>\n",
       "      <td>B09WX6QD65</td>\n",
       "      <td>Introducing Echo Pop | Full sound compact Wi-F...</td>\n",
       "      <td>4.6</td>\n",
       "      <td>1881</td>\n",
       "      <td>17.99</td>\n",
       "      <td>False</td>\n",
       "      <td>0</td>\n",
       "      <td>Hi-Fi Speakers</td>\n",
       "    </tr>\n",
       "  </tbody>\n",
       "</table>\n",
       "</div>"
      ],
      "text/plain": [
       "   uid        asin                                              title  stars  \\\n",
       "0    1  B09B96TG33  Echo Dot (5th generation, 2022 release) | Big ...    4.7   \n",
       "1    2  B01HTH3C8S  Anker Soundcore mini, Super-Portable Bluetooth...    4.7   \n",
       "2    3  B09B8YWXDF  Echo Dot (5th generation, 2022 release) | Big ...    4.7   \n",
       "3    4  B09B8T5VGV  Echo Dot with clock (5th generation, 2022 rele...    4.7   \n",
       "4    5  B09WX6QD65  Introducing Echo Pop | Full sound compact Wi-F...    4.6   \n",
       "\n",
       "   reviews  price  isBestSeller  boughtInLastMonth        category  \n",
       "0    15308  21.99         False                  0  Hi-Fi Speakers  \n",
       "1    98099  23.99          True                  0  Hi-Fi Speakers  \n",
       "2    15308  21.99         False                  0  Hi-Fi Speakers  \n",
       "3     7205  31.99         False                  0  Hi-Fi Speakers  \n",
       "4     1881  17.99         False                  0  Hi-Fi Speakers  "
      ]
     },
     "execution_count": 3,
     "metadata": {},
     "output_type": "execute_result"
    }
   ],
   "source": [
    "df.head(5)"
   ]
  },
  {
   "cell_type": "code",
   "execution_count": 4,
   "id": "396787d8-99be-46d1-8792-7ee7857b297c",
   "metadata": {},
   "outputs": [],
   "source": [
    "df = df[df.columns[df.isnull().mean() < 0.8]]"
   ]
  },
  {
   "cell_type": "code",
   "execution_count": 5,
   "id": "b39266e2-1bcb-486a-926f-6b962607c20d",
   "metadata": {
    "scrolled": true
   },
   "outputs": [
    {
     "name": "stdout",
     "output_type": "stream",
     "text": [
      "<class 'pandas.core.frame.DataFrame'>\n",
      "RangeIndex: 2443651 entries, 0 to 2443650\n",
      "Data columns (total 9 columns):\n",
      " #   Column             Dtype  \n",
      "---  ------             -----  \n",
      " 0   uid                int64  \n",
      " 1   asin               object \n",
      " 2   title              object \n",
      " 3   stars              float64\n",
      " 4   reviews            int64  \n",
      " 5   price              float64\n",
      " 6   isBestSeller       bool   \n",
      " 7   boughtInLastMonth  int64  \n",
      " 8   category           object \n",
      "dtypes: bool(1), float64(2), int64(3), object(3)\n",
      "memory usage: 151.5+ MB\n"
     ]
    }
   ],
   "source": [
    "df.info()"
   ]
  },
  {
   "cell_type": "code",
   "execution_count": 6,
   "id": "23695d81-e314-47df-9692-e9bc84b8c91f",
   "metadata": {},
   "outputs": [
    {
     "data": {
      "text/plain": [
       "array(['Hi-Fi Speakers', 'CD, Disc & Tape Players', 'Wearable Technology',\n",
       "       'Light Bulbs', 'Bathroom Lighting',\n",
       "       'Heating, Cooling & Air Quality', 'Coffee & Espresso Machines',\n",
       "       'Lab & Scientific Products', 'Smart Speakers',\n",
       "       'Motorbike Clothing', 'Motorbike Accessories',\n",
       "       'Motorbike Batteries', 'Motorbike Boots & Luggage',\n",
       "       'Motorbike Chassis', 'Handmade Home & Kitchen Products',\n",
       "       'Hardware', 'Storage & Home Organisation',\n",
       "       'Fireplaces, Stoves & Accessories', 'PC Gaming Accessories',\n",
       "       'USB Gadgets', 'Blank Media Cases & Wallets', 'Car & Motorbike',\n",
       "       'Boys', 'Sports & Outdoors', 'Microphones', 'String Instruments',\n",
       "       'Karaoke Equipment', 'PA & Stage',\n",
       "       'General Music-Making Accessories', 'Wind Instruments',\n",
       "       'Handmade Gifts', 'Fragrances', 'Calendars & Personal Organisers',\n",
       "       'Furniture & Lighting', 'Computer Printers', 'Ski Goggles',\n",
       "       'Snowboards', 'Skiing Poles', 'Downhill Ski Boots',\n",
       "       'Hiking Hand & Foot Warmers', 'Pet Supplies',\n",
       "       'Plants, Seeds & Bulbs', 'Garden Furniture & Accessories',\n",
       "       'Bird & Wildlife Care', 'Storage & Organisation',\n",
       "       'Living Room Furniture', 'Bedding & Linen',\n",
       "       'Curtain & Blind Accessories', 'Skin Care',\n",
       "       \"Kids' Art & Craft Supplies\", \"Kids' Play Vehicles\", 'Hobbies',\n",
       "       'Laptops', 'Projectors', 'Graphics Cards', 'Computer Memory',\n",
       "       'Motherboards', 'Power Supplies', 'CPUs', 'Computer Screws',\n",
       "       'Streaming Clients', '3D Printers', 'Barebone PCs',\n",
       "       \"Women's Sports & Outdoor Shoes\", 'Luxury Food & Drink',\n",
       "       'Alexa Built-In Devices', 'PC & Video Games', 'SIM Cards',\n",
       "       'Mobile Phone Accessories', 'Birthday Gifts',\n",
       "       'Handmade Kitchen & Dining', 'Abrasive & Finishing Products',\n",
       "       'Professional Medical Supplies', 'Cutting Tools',\n",
       "       'Material Handling Products', 'Packaging & Shipping Supplies',\n",
       "       'Power & Hand Tools', 'Agricultural Equipment & Supplies',\n",
       "       'Tennis Shoes', 'Boating Footwear', 'Cycling Shoes', 'Bath & Body',\n",
       "       'Home Brewing & Wine Making', 'Tableware',\n",
       "       'Kitchen Storage & Organisation', 'Kitchen Tools & Gadgets',\n",
       "       'Cookware', 'Water Coolers, Filters & Cartridges',\n",
       "       'Beer, Wine & Spirits', 'Manicure & Pedicure Products', 'Flashes',\n",
       "       'Computers, Components & Accessories', 'Home Audio Record Players',\n",
       "       'Radios & Boomboxes', 'Car & Vehicle Electronics',\n",
       "       'eBook Readers & Accessories', 'Lighting',\n",
       "       'Small Kitchen Appliances', 'Motorbike Engines & Engine Parts',\n",
       "       'Motorbike Drive & Gears', 'Motorbike Brakes',\n",
       "       'Motorbike Exhaust & Exhaust Systems',\n",
       "       'Motorbike Handlebars, Controls & Grips',\n",
       "       'Mowers & Outdoor Power Tools', 'Kitchen & Bath Fixtures',\n",
       "       'Rough Plumbing', 'Monitor Accessories', 'Cables & Accessories',\n",
       "       'Guitars & Gear', 'Pens, Pencils & Writing Supplies',\n",
       "       'School & Educational Supplies', 'Ski Clothing',\n",
       "       'Outdoor Heaters & Fire Pits', 'Garden Décor', 'Beauty',\n",
       "       'Made in Italy Handmade', 'Cushions & Accessories',\n",
       "       'Home Fragrance', 'Window Treatments',\n",
       "       'Home Entertainment Furniture', 'Dining Room Furniture',\n",
       "       'Home Bar Furniture', 'Kitchen Linen', 'Mattress Pads & Toppers',\n",
       "       \"Children's Bedding\", 'Bedding Accessories',\n",
       "       'Games & Game Accessories', 'Dolls & Accessories',\n",
       "       'Sports Toys & Outdoor', 'Monitors', 'I/O Port Cards',\n",
       "       'Computer Cases', 'KVM Switches', 'Printers & Accessories',\n",
       "       'Telephones, VoIP & Accessories', 'Handmade Artwork',\n",
       "       'Industrial Electrical', 'Test & Measurement',\n",
       "       '3D Printing & Scanning', 'Basketball Footwear', 'Make-up',\n",
       "       'Surveillance Cameras', 'Photo Printers', 'Tripods & Monopods',\n",
       "       'Mobile Phones & Communication', 'Electrical Power Accessories',\n",
       "       'Radio Communication', 'Outdoor Rope Lights',\n",
       "       'Vacuums & Floorcare', 'Large Appliances', 'Motorbike Lighting',\n",
       "       'Motorbike Seat Covers', 'Motorbike Instruments',\n",
       "       'Motorbike Electrical & Batteries', 'Lights and switches', 'Plugs',\n",
       "       'Home Entertainment', 'Girls',\n",
       "       'Painting Supplies, Tools & Wall Treatments', 'Building Supplies',\n",
       "       'Safety & Security', 'Tablet Accessories',\n",
       "       'Keyboards, Mice & Input Devices', 'Laptop Accessories',\n",
       "       'Headphones & Earphones', 'Baby', 'Smartwatches',\n",
       "       'Piano & Keyboard', 'Drums & Percussion',\n",
       "       'Synthesisers, Samplers & Digital Instruments',\n",
       "       'Office Electronics', 'Office Supplies', 'Gardening',\n",
       "       'Outdoor Cooking', 'Decking & Fencing',\n",
       "       'Thermometers & Meteorological Instruments',\n",
       "       'Pools, Hot Tubs & Supplies', 'Health & Personal Care',\n",
       "       'Decorative Artificial Flora', 'Candles & Holders',\n",
       "       'Signs & Plaques', 'Home Office Furniture', 'Bathroom Furniture',\n",
       "       'Inflatable Beds, Pillows & Accessories', 'Bathroom Linen',\n",
       "       'Bedding Collections', \"Kids' Play Figures\", 'Baby & Toddler Toys',\n",
       "       'Learning & Education Toys', 'Toy Advent Calendars',\n",
       "       'Electronic Toys', 'Tablets', 'External Sound Cards',\n",
       "       'Internal TV Tuner & Video Capture Cards',\n",
       "       'External TV Tuners & Video Capture Cards',\n",
       "       'Scanners & Accessories', \"Men's Sports & Outdoor Shoes\",\n",
       "       'Darts & Dartboards', 'Table Tennis', 'Billiard, Snooker & Pool',\n",
       "       'Bowling', 'Trampolines & Accessories',\n",
       "       'Handmade Clothing, Shoes & Accessories', 'Handmade Home Décor',\n",
       "       'Handmade', 'Smart Home Security & Lighting',\n",
       "       'Professional Education Supplies',\n",
       "       'Hydraulics, Pneumatics & Plumbing', 'Ballet & Dancing Footwear',\n",
       "       'Cricket Shoes', 'Golf Shoes', 'Boxing Shoes', 'Men',\n",
       "       'Headphones, Earphones & Accessories', 'Bakeware', 'Grocery',\n",
       "       'Lenses', 'Camcorders', 'Camera & Photo Accessories',\n",
       "       'Household Batteries, Chargers & Accessories',\n",
       "       'Home Cinema, TV & Video', 'Hi-Fi & Home Audio Accessories',\n",
       "       'Portable Sound & Video Products', 'Outdoor Lighting', 'Torches',\n",
       "       'Sports Supplements', 'Ironing & Steamers',\n",
       "       \"Customers' Most Loved\", 'Cameras', 'Electrical',\n",
       "       'Construction Machinery', 'Handmade Baby Products', 'USB Hubs',\n",
       "       'Computer Audio & Video Accessories', 'Adapters',\n",
       "       'Computer & Server Racks', 'Hard Drive Accessories',\n",
       "       'Printer Accessories', 'Computer Memory Card Accessories',\n",
       "       'Uninterruptible Power Supply Units & Accessories',\n",
       "       'Luggage and travel gear', 'Bass Guitars & Gear',\n",
       "       'Recording & Computer', 'DJ & VJ Equipment',\n",
       "       'Art & Craft Supplies', 'Office Paper Products', 'Ski Helmets',\n",
       "       'Snowboard Boots', 'Snowboard Bindings', 'Downhill Skis',\n",
       "       'Snow Sledding Equipment', 'Networking Devices',\n",
       "       'Garden Storage & Housing', 'Garden Tools & Watering Equipment',\n",
       "       'Photo Frames', 'Rugs, Pads & Protectors', 'Mirrors', 'Clocks',\n",
       "       'Doormats', 'Decorative Home Accessories', 'Boxes & Organisers',\n",
       "       'Slipcovers', 'Vases', 'Bedroom Furniture', 'Hallway Furniture',\n",
       "       'Jigsaws & Puzzles', 'Building & Construction Toys',\n",
       "       'Remote & App-Controlled Devices', \"Kids' Dress Up & Pretend Play\",\n",
       "       'Soft Toys', 'Desktop PCs', 'External Optical Drives',\n",
       "       'Internal Optical Drives', 'Network Cards', 'Data Storage',\n",
       "       'Mobile Phones & Smartphones', 'Handmade Jewellery',\n",
       "       'Gifts for Him', 'Gifts for Her', 'Women', 'Hockey Shoes',\n",
       "       'Climbing Footwear', 'Equestrian Sports Boots', 'Arts & Crafts',\n",
       "       'Hair Care', 'Coffee, Tea & Espresso', 'Digital Cameras',\n",
       "       'Digital Frames', 'Action Cameras', 'Film Cameras',\n",
       "       'Binoculars, Telescopes & Optics', 'Media Streaming Devices',\n",
       "       'Hi-Fi Receivers & Separates', 'GPS, Finders & Accessories',\n",
       "       'Indoor Lighting', 'String Lights'], dtype=object)"
      ]
     },
     "execution_count": 6,
     "metadata": {},
     "output_type": "execute_result"
    }
   ],
   "source": [
    "df['category'].unique()"
   ]
  },
  {
   "cell_type": "code",
   "execution_count": 7,
   "id": "1066b972-64e3-47a5-ad39-c55820795363",
   "metadata": {},
   "outputs": [
    {
     "data": {
      "text/plain": [
       "category\n",
       "Sports & Outdoors                         836265\n",
       "Beauty                                     19312\n",
       "Handmade Clothing, Shoes & Accessories     19229\n",
       "Bath & Body                                19092\n",
       "Birthday Gifts                             18978\n",
       "                                           ...  \n",
       "Motorbike Chassis                            107\n",
       "Plugs                                        107\n",
       "Alexa Built-In Devices                       107\n",
       "Smart Home Security & Lighting               104\n",
       "Smart Speakers                                54\n",
       "Name: count, Length: 296, dtype: int64"
      ]
     },
     "execution_count": 7,
     "metadata": {},
     "output_type": "execute_result"
    }
   ],
   "source": [
    "frequency_table = df['category'].value_counts()\n",
    "\n",
    "frequency_table"
   ]
  },
  {
   "cell_type": "code",
   "execution_count": 8,
   "id": "53ed684e-7da8-4dba-b776-c312cca9c929",
   "metadata": {
    "scrolled": true
   },
   "outputs": [],
   "source": [
    "top_category = frequency_table.head(5)"
   ]
  },
  {
   "cell_type": "code",
   "execution_count": 9,
   "id": "5d2d1ad0-dd26-4c8d-91ed-085e8b7fedf9",
   "metadata": {},
   "outputs": [],
   "source": [
    "# Not sure if the data has to be cleaned or not. It's not clear from the instructions."
   ]
  },
  {
   "cell_type": "code",
   "execution_count": 10,
   "id": "bb8414ee-1350-452e-981d-8eb88a1dc900",
   "metadata": {},
   "outputs": [
    {
     "data": {
      "text/plain": [
       "<Axes: ylabel='category'>"
      ]
     },
     "execution_count": 10,
     "metadata": {},
     "output_type": "execute_result"
    },
    {
     "data": {
      "image/png": "[encoded data removed]",
      "text/plain": [
       "<Figure size 640x480 with 1 Axes>"
      ]
     },
     "metadata": {},
     "output_type": "display_data"
    }
   ],
   "source": [
    "sns.barplot(x=top_category.values, y=top_category.index, palette=\"Set3\")"
   ]
  },
  {
   "cell_type": "code",
   "execution_count": 11,
   "id": "28b0b45c-c95f-4c5d-8789-7eeec86d12e0",
   "metadata": {
    "scrolled": true
   },
   "outputs": [
    {
     "data": {
      "text/plain": [
       "<Axes: ylabel='count'>"
      ]
     },
     "execution_count": 11,
     "metadata": {},
     "output_type": "execute_result"
    },
    {
     "data": {
      "image/png": "[encoded data removed]",
      "text/plain": [
       "<Figure size 640x480 with 1 Axes>"
      ]
     },
     "metadata": {},
     "output_type": "display_data"
    }
   ],
   "source": [
    "# Sports & Outdoors huge domination in listings\n",
    "top_category.plot.pie(autopct='%1.1f%%', startangle=90, colors=sns.color_palette(\"Set3\"))"
   ]
  },
  {
   "cell_type": "code",
   "execution_count": 12,
   "id": "252fc121-fee1-4f73-89ee-d0a9ac3a6f81",
   "metadata": {},
   "outputs": [
    {
     "data": {
      "text/plain": [
       "89.24380943923663"
      ]
     },
     "execution_count": 12,
     "metadata": {},
     "output_type": "execute_result"
    }
   ],
   "source": [
    "mean_price = df['price'].mean()\n",
    "mean_price"
   ]
  },
  {
   "cell_type": "code",
   "execution_count": 13,
   "id": "5a84bd47-2ebc-4f27-947e-b91d17d0ed0a",
   "metadata": {},
   "outputs": [
    {
     "data": {
      "text/plain": [
       "19.09"
      ]
     },
     "execution_count": 13,
     "metadata": {},
     "output_type": "execute_result"
    }
   ],
   "source": [
    "median_price = df['price'].median()\n",
    "median_price"
   ]
  },
  {
   "cell_type": "code",
   "execution_count": 14,
   "id": "e1496591-51e8-4028-8af7-860efaf48e5a",
   "metadata": {},
   "outputs": [
    {
     "data": {
      "text/plain": [
       "9.99"
      ]
     },
     "execution_count": 14,
     "metadata": {},
     "output_type": "execute_result"
    }
   ],
   "source": [
    "mode_price = df['price'].mode()[0]\n",
    "mode_price"
   ]
  },
  {
   "cell_type": "code",
   "execution_count": 15,
   "id": "81fd0602-c680-4e9c-ab69-477af6f314c5",
   "metadata": {},
   "outputs": [],
   "source": [
    "# Difference of 80 between mean and mode price"
   ]
  },
  {
   "cell_type": "code",
   "execution_count": 16,
   "id": "58d6a011-d5c2-45e9-bf9a-defe05e40b64",
   "metadata": {},
   "outputs": [
    {
     "data": {
      "text/plain": [
       "119445.48532256528"
      ]
     },
     "execution_count": 16,
     "metadata": {},
     "output_type": "execute_result"
    }
   ],
   "source": [
    "var_price = df['price'].var()\n",
    "var_price"
   ]
  },
  {
   "cell_type": "code",
   "execution_count": 17,
   "id": "aee95de6-1155-484c-b8c4-3d6dc535a3e0",
   "metadata": {},
   "outputs": [
    {
     "data": {
      "text/plain": [
       "345.60886175352226"
      ]
     },
     "execution_count": 17,
     "metadata": {},
     "output_type": "execute_result"
    }
   ],
   "source": [
    "std_price = df['price'].std()\n",
    "std_price"
   ]
  },
  {
   "cell_type": "code",
   "execution_count": 18,
   "id": "8670bccc-6a65-4898-a943-628463b60c82",
   "metadata": {},
   "outputs": [
    {
     "data": {
      "text/plain": [
       "0.0"
      ]
     },
     "execution_count": 18,
     "metadata": {},
     "output_type": "execute_result"
    }
   ],
   "source": [
    "min_price = df['price'].min()\n",
    "min_price"
   ]
  },
  {
   "cell_type": "code",
   "execution_count": 19,
   "id": "0eb84f44-c8ef-4399-a394-402ec0734a67",
   "metadata": {},
   "outputs": [
    {
     "data": {
      "text/plain": [
       "100000.0"
      ]
     },
     "execution_count": 19,
     "metadata": {},
     "output_type": "execute_result"
    }
   ],
   "source": [
    "max_price = df['price'].max()\n",
    "max_price"
   ]
  },
  {
   "cell_type": "code",
   "execution_count": 20,
   "id": "ce466eef-6975-402e-b77c-966de16999ce",
   "metadata": {},
   "outputs": [
    {
     "data": {
      "text/plain": [
       "100000.0"
      ]
     },
     "execution_count": 20,
     "metadata": {},
     "output_type": "execute_result"
    }
   ],
   "source": [
    "max_price - min_price"
   ]
  },
  {
   "cell_type": "code",
   "execution_count": 21,
   "id": "7bc2dcf5-bc42-4a31-86fb-a596e0e12837",
   "metadata": {},
   "outputs": [],
   "source": [
    "# The products are extremely varied in prices. The range, variance and standard deviation all confirm this statement"
   ]
  },
  {
   "cell_type": "code",
   "execution_count": 26,
   "id": "44ce6914-cc29-41f3-b776-665fdeeb827a",
   "metadata": {},
   "outputs": [
    {
     "name": "stderr",
     "output_type": "stream",
     "text": [
      "/Users/kwameantwiadjei/anaconda3/lib/python3.11/site-packages/seaborn/_oldcore.py:1119: FutureWarning: use_inf_as_na option is deprecated and will be removed in a future version. Convert inf values to NaN before operating instead.\n",
      "  with pd.option_context('mode.use_inf_as_na', True):\n"
     ]
    },
    {
     "data": {
      "text/plain": [
       "<Axes: xlabel='price', ylabel='Count'>"
      ]
     },
     "execution_count": 26,
     "metadata": {},
     "output_type": "execute_result"
    },
    {
     "data": {
      "image/png": "[encoded data removed]",
      "text/plain": [
       "<Figure size 640x480 with 1 Axes>"
      ]
     },
     "metadata": {},
     "output_type": "display_data"
    }
   ],
   "source": [
    "# A lot of prices are on the lower side, but it's very hard to read these diagrams. Cleaning the data and focussing on subsets might \n",
    "# help with better analysis. Maybe the histogram itself could be set up better\n",
    "sns.histplot(df['price'], bins=1000, color=\"salmon\")"
   ]
  },
  {
   "cell_type": "code",
   "execution_count": 27,
   "id": "07967206-1763-48b7-8d51-66208e262142",
   "metadata": {},
   "outputs": [
    {
     "data": {
      "text/plain": [
       "<Axes: >"
      ]
     },
     "execution_count": 27,
     "metadata": {},
     "output_type": "execute_result"
    },
    {
     "data": {
      "image/png": "[encoded data removed]",
      "text/plain": [
       "<Figure size 640x480 with 1 Axes>"
      ]
     },
     "metadata": {},
     "output_type": "display_data"
    }
   ],
   "source": [
    "# Some extreme outliers at 80000 and 100000.\n",
    "sns.boxplot(data = df['price'])"
   ]
  },
  {
   "cell_type": "code",
   "execution_count": 28,
   "id": "c14fe20f-cab6-46a7-ab6e-b292cbeddbc4",
   "metadata": {},
   "outputs": [
    {
     "data": {
      "text/plain": [
       "2.152836472966065"
      ]
     },
     "execution_count": 28,
     "metadata": {},
     "output_type": "execute_result"
    }
   ],
   "source": [
    "mean_rating = df['stars'].mean()\n",
    "mean_rating"
   ]
  },
  {
   "cell_type": "code",
   "execution_count": 29,
   "id": "1414ee34-8734-4b38-8f11-d64fa11e37ad",
   "metadata": {},
   "outputs": [
    {
     "data": {
      "text/plain": [
       "0.0"
      ]
     },
     "execution_count": 29,
     "metadata": {},
     "output_type": "execute_result"
    }
   ],
   "source": [
    "# A lot of products seem to be not rated, because median is 0\n",
    "median_rating = df['stars'].median()\n",
    "median_rating"
   ]
  },
  {
   "cell_type": "code",
   "execution_count": 30,
   "id": "15faf474-bf57-4834-ad83-ab22370cf337",
   "metadata": {},
   "outputs": [
    {
     "data": {
      "text/plain": [
       "0.0"
      ]
     },
     "execution_count": 30,
     "metadata": {},
     "output_type": "execute_result"
    }
   ],
   "source": [
    "# Most common rating is zero, hence why median might be 0\n",
    "mode_rating = df['stars'].mode()[0]\n",
    "mode_rating"
   ]
  },
  {
   "cell_type": "code",
   "execution_count": 31,
   "id": "c01b230f-743c-4cf6-bd02-2d13a18c6d4a",
   "metadata": {},
   "outputs": [
    {
     "data": {
      "text/plain": [
       "4.81743402976196"
      ]
     },
     "execution_count": 31,
     "metadata": {},
     "output_type": "execute_result"
    }
   ],
   "source": [
    "var_rating = df['stars'].var()\n",
    "var_rating"
   ]
  },
  {
   "cell_type": "code",
   "execution_count": 32,
   "id": "dff3c8e1-74d5-4f1f-ac58-f951a6863fa8",
   "metadata": {},
   "outputs": [
    {
     "data": {
      "text/plain": [
       "2.1948653785054697"
      ]
     },
     "execution_count": 32,
     "metadata": {},
     "output_type": "execute_result"
    }
   ],
   "source": [
    "std_rating = df['stars'].std()\n",
    "std_rating"
   ]
  },
  {
   "cell_type": "code",
   "execution_count": 33,
   "id": "6fda8a98-2daf-4de9-a23a-53a77de8c040",
   "metadata": {},
   "outputs": [
    {
     "data": {
      "text/plain": [
       "36.0"
      ]
     },
     "execution_count": 33,
     "metadata": {},
     "output_type": "execute_result"
    }
   ],
   "source": [
    "Q1 = df['price'].quantile(0.25)\n",
    "Q3 = df['price'].quantile(0.75)\n",
    "\n",
    "IQR = Q3 - Q1\n",
    "IQR"
   ]
  },
  {
   "cell_type": "code",
   "execution_count": 34,
   "id": "16df3f5b-10d7-4538-9077-e20a910bbce4",
   "metadata": {},
   "outputs": [],
   "source": [
    "# IQR, Var and Std show that there is a wide variation knowing that the median is 0. So ratings are not consistent at all"
   ]
  },
  {
   "cell_type": "code",
   "execution_count": 35,
   "id": "09277254-3aa7-445a-801b-37ce65774f73",
   "metadata": {},
   "outputs": [
    {
     "data": {
      "text/plain": [
       "0.08120735761080985"
      ]
     },
     "execution_count": 35,
     "metadata": {},
     "output_type": "execute_result"
    }
   ],
   "source": [
    "# The skew of 0.08 shows that it's slightly right skewed\n",
    "skewness_rating = df['stars'].skew()\n",
    "skewness_rating"
   ]
  },
  {
   "cell_type": "code",
   "execution_count": 36,
   "id": "30a077b9-95eb-4b5d-b4c4-b1d0c8da635f",
   "metadata": {
    "scrolled": true
   },
   "outputs": [
    {
     "name": "stderr",
     "output_type": "stream",
     "text": [
      "/Users/kwameantwiadjei/anaconda3/lib/python3.11/site-packages/seaborn/_oldcore.py:1119: FutureWarning: use_inf_as_na option is deprecated and will be removed in a future version. Convert inf values to NaN before operating instead.\n",
      "  with pd.option_context('mode.use_inf_as_na', True):\n"
     ]
    },
    {
     "data": {
      "text/plain": [
       "<Axes: xlabel='stars', ylabel='Count'>"
      ]
     },
     "execution_count": 36,
     "metadata": {},
     "output_type": "execute_result"
    },
    {
     "data": {
      "image/png": "[encoded data removed]",
      "text/plain": [
       "<Figure size 640x480 with 1 Axes>"
      ]
     },
     "metadata": {},
     "output_type": "display_data"
    }
   ],
   "source": [
    "# As seen in the data above, the histogram shows that a lot of products have the ratings 0 (might not be rated at all)\n",
    "sns.histplot(df['stars'], color=\"salmon\")"
   ]
  }
 ],
 "metadata": {
  "kernelspec": {
   "display_name": "Python 3 (ipykernel)",
   "language": "python",
   "name": "python3"
  },
  "language_info": {
   "codemirror_mode": {
    "name": "ipython",
    "version": 3
   },
   "file_extension": ".py",
   "mimetype": "text/x-python",
   "name": "python",
   "nbconvert_exporter": "python",
   "pygments_lexer": "ipython3",
   "version": "3.11.8"
  }
 },
 "nbformat": 4,
 "nbformat_minor": 5
}
